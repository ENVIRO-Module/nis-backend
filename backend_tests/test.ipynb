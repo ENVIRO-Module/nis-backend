{
 "cells": [
  {
   "cell_type": "markdown",
   "metadata": {},
   "source": [
    "        # My first automatic Jupyter Notebook\n",
    "        This is an auto-generated notebook."
   ]
  },
  {
   "cell_type": "code",
   "execution_count": 1,
   "metadata": {},
   "outputs": [],
   "source": [
    "        fname = \"Biofuel_NIS.xlsx\";"
   ]
  },
  {
   "cell_type": "code",
   "execution_count": 2,
   "metadata": {},
   "outputs": [
    {
     "ename": "ModuleNotFoundError",
     "evalue": "No module named 'nexinfosys'",
     "output_type": "error",
     "traceback": [
      "\u001b[0;31m---------------------------------------------------------------------------\u001b[0m",
      "\u001b[0;31mModuleNotFoundError\u001b[0m                       Traceback (most recent call last)",
      "\u001b[0;32m<ipython-input-2-35211a8d7196>\u001b[0m in \u001b[0;36m<module>\u001b[0;34m\u001b[0m\n\u001b[0;32m----> 1\u001b[0;31m \u001b[0;32mfrom\u001b[0m \u001b[0mnexinfosys\u001b[0m \u001b[0;32mimport\u001b[0m \u001b[0mNISClient\u001b[0m\u001b[0;34m,\u001b[0m \u001b[0mdisplay_visjs_jupyterlab\u001b[0m\u001b[0;34m\u001b[0m\u001b[0;34m\u001b[0m\u001b[0m\n\u001b[0m\u001b[1;32m      2\u001b[0m \u001b[0;32mimport\u001b[0m \u001b[0mio\u001b[0m\u001b[0;34m\u001b[0m\u001b[0;34m\u001b[0m\u001b[0m\n\u001b[1;32m      3\u001b[0m \u001b[0;32mimport\u001b[0m \u001b[0mpandas\u001b[0m \u001b[0;32mas\u001b[0m \u001b[0mpd\u001b[0m\u001b[0;34m\u001b[0m\u001b[0;34m\u001b[0m\u001b[0m\n\u001b[1;32m      4\u001b[0m \u001b[0;32mimport\u001b[0m \u001b[0mnetworkx\u001b[0m \u001b[0;32mas\u001b[0m \u001b[0mnx\u001b[0m\u001b[0;34m\u001b[0m\u001b[0;34m\u001b[0m\u001b[0m\n\u001b[1;32m      5\u001b[0m \u001b[0;34m\u001b[0m\u001b[0m\n",
      "\u001b[0;31mModuleNotFoundError\u001b[0m: No module named 'nexinfosys'"
     ]
    }
   ],
   "source": [
    "        from nexinfosys import NISClient, display_visjs_jupyterlab\n",
    "        import io\n",
    "        import pandas as pd\n",
    "        import networkx as nx\n",
    "        \n",
    "        c = NISClient(\"https://one.nis.magic-nexus.eu/nis_api\")\n",
    "        #c = NISClient(\"http://localhost:5000/nis_api\")\n",
    "        # Login, open session, load a workbook (which is in Nextcloud), submit (execute!)\n",
    "        c.login(\"test_user\")\n",
    "        #print(\"Logged in\")\n",
    "        c.open_session()\n",
    "        #print(\"Session opened\")\n",
    "        n = c.load_workbook(fname)\n",
    "        #print(\"N worksheets: \"+str(n))\n",
    "        r = c.submit()\n",
    "        #print(\"Returned from submit\")\n",
    "        # Check if submission was successful (it should be with the provided workbook), then query \n",
    "        # available datasets, and get one of them, converting it into a pd.DataFrame\n",
    "        any_error = False\n",
    "        if len(r) > 0:\n",
    "            for i in r:\n",
    "                if i[\"type\"] == 3:\n",
    "                    any_error = True\n",
    "                    print(str(i))\n",
    "        \n",
    "        if not any_error:\n",
    "            # Obtain available datasets\n",
    "            r = c.query_available_datasets()\n",
    "            if len(r) > 0:\n",
    "                results = {}\n",
    "                for ds in r:\n",
    "                    results[ds[\"name\"]] = {d[\"format\"].lower(): d[\"url\"] for d in ds[\"formats\"]}\n",
    "                    #print(str(ds))\n",
    "                #r = c.download_results([(results[\"FG\"][\"visjs\"])])\n",
    "                #visjs_data = r[0].decode(\"utf-8\")\n",
    "                #unique_name = None\n",
    "                r = c.download_results([(results[\"PG\"][\"visjs\"])])\n",
    "                visjs_data2 = r[0].decode(\"utf-8\")\n",
    "                un2 = None\n",
    "        \n",
    "                #unique_name = display_visjs_jupyterlab(visjs_data, 800, unique_name)\n",
    "                un2 = display_visjs_jupyterlab(visjs_data2, 1200, un2)\n",
    "              \n",
    "        c.close_session()\n",
    "        c.logout()"
   ]
  }
 ],
 "metadata": {
  "kernelspec": {
   "display_name": "Python 3",
   "language": "python",
   "name": "python3"
  },
  "language_info": {
   "codemirror_mode": {
    "name": "ipython",
    "version": 3
   },
   "file_extension": ".py",
   "mimetype": "text/x-python",
   "name": "python",
   "nbconvert_exporter": "python",
   "pygments_lexer": "ipython3",
   "version": "3.7.3"
  }
 },
 "nbformat": 4,
 "nbformat_minor": 2
}
